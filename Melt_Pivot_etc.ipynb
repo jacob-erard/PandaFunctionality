{
 "cells": [
  {
   "cell_type": "code",
   "execution_count": 118,
   "id": "4e20e22e-df33-45ed-ba27-2806eb94b0d6",
   "metadata": {},
   "outputs": [
    {
     "name": "stdout",
     "output_type": "stream",
     "text": [
      "        encounter_id  patient_nbr             race  gender      age weight  \\\n",
      "0            2278392      8222157        Caucasian  Female   [0-10)      ?   \n",
      "1             149190     55629189        Caucasian  Female  [10-20)      ?   \n",
      "2              64410     86047875  AfricanAmerican  Female  [20-30)      ?   \n",
      "3             500364     82442376        Caucasian    Male  [30-40)      ?   \n",
      "4              16680     42519267        Caucasian    Male  [40-50)      ?   \n",
      "...              ...          ...              ...     ...      ...    ...   \n",
      "101761     443847548    100162476  AfricanAmerican    Male  [70-80)      ?   \n",
      "101762     443847782     74694222  AfricanAmerican  Female  [80-90)      ?   \n",
      "101763     443854148     41088789        Caucasian    Male  [70-80)      ?   \n",
      "101764     443857166     31693671        Caucasian  Female  [80-90)      ?   \n",
      "101765     443867222    175429310        Caucasian    Male  [70-80)      ?   \n",
      "\n",
      "        admission_type_id  discharge_disposition_id  admission_source_id  \\\n",
      "0                       6                        25                    1   \n",
      "1                       1                         1                    7   \n",
      "2                       1                         1                    7   \n",
      "3                       1                         1                    7   \n",
      "4                       1                         1                    7   \n",
      "...                   ...                       ...                  ...   \n",
      "101761                  1                         3                    7   \n",
      "101762                  1                         4                    5   \n",
      "101763                  1                         1                    7   \n",
      "101764                  2                         3                    7   \n",
      "101765                  1                         1                    7   \n",
      "\n",
      "        time_in_hospital  ... citoglipton insulin  glyburide-metformin  \\\n",
      "0                      1  ...          No      No                   No   \n",
      "1                      3  ...          No      Up                   No   \n",
      "2                      2  ...          No      No                   No   \n",
      "3                      2  ...          No      Up                   No   \n",
      "4                      1  ...          No  Steady                   No   \n",
      "...                  ...  ...         ...     ...                  ...   \n",
      "101761                 3  ...          No    Down                   No   \n",
      "101762                 5  ...          No  Steady                   No   \n",
      "101763                 1  ...          No    Down                   No   \n",
      "101764                10  ...          No      Up                   No   \n",
      "101765                 6  ...          No      No                   No   \n",
      "\n",
      "        glipizide-metformin  glimepiride-pioglitazone  \\\n",
      "0                        No                        No   \n",
      "1                        No                        No   \n",
      "2                        No                        No   \n",
      "3                        No                        No   \n",
      "4                        No                        No   \n",
      "...                     ...                       ...   \n",
      "101761                   No                        No   \n",
      "101762                   No                        No   \n",
      "101763                   No                        No   \n",
      "101764                   No                        No   \n",
      "101765                   No                        No   \n",
      "\n",
      "        metformin-rosiglitazone  metformin-pioglitazone  change diabetesMed  \\\n",
      "0                            No                      No      No          No   \n",
      "1                            No                      No      Ch         Yes   \n",
      "2                            No                      No      No         Yes   \n",
      "3                            No                      No      Ch         Yes   \n",
      "4                            No                      No      Ch         Yes   \n",
      "...                         ...                     ...     ...         ...   \n",
      "101761                       No                      No      Ch         Yes   \n",
      "101762                       No                      No      No         Yes   \n",
      "101763                       No                      No      Ch         Yes   \n",
      "101764                       No                      No      Ch         Yes   \n",
      "101765                       No                      No      No          No   \n",
      "\n",
      "       readmitted  \n",
      "0              NO  \n",
      "1             >30  \n",
      "2              NO  \n",
      "3              NO  \n",
      "4              NO  \n",
      "...           ...  \n",
      "101761        >30  \n",
      "101762         NO  \n",
      "101763         NO  \n",
      "101764         NO  \n",
      "101765         NO  \n",
      "\n",
      "[101766 rows x 50 columns]\n"
     ]
    }
   ],
   "source": [
    "import pandas as pd\n",
    "\n",
    "# Loading the data file\n",
    "data = pd.read_csv(\"diabetic_data.csv\")\n",
    "print(data)"
   ]
  },
  {
   "cell_type": "code",
   "execution_count": 119,
   "id": "8b04c680-9b23-4f66-8b69-9009fa18dc07",
   "metadata": {},
   "outputs": [
    {
     "name": "stdout",
     "output_type": "stream",
     "text": [
      "        patient_nbr     Health_Metric    Value\n",
      "0           8222157               age   [0-10)\n",
      "1          55629189               age  [10-20)\n",
      "2          86047875               age  [20-30)\n",
      "3          82442376               age  [30-40)\n",
      "4          42519267               age  [40-50)\n",
      "...             ...               ...      ...\n",
      "203527    100162476  time_in_hospital        3\n",
      "203528     74694222  time_in_hospital        5\n",
      "203529     41088789  time_in_hospital        1\n",
      "203530     31693671  time_in_hospital       10\n",
      "203531    175429310  time_in_hospital        6\n",
      "\n",
      "[203532 rows x 3 columns]\n"
     ]
    }
   ],
   "source": [
    "# Using the columns [class, age, time_in_hospital] we can melt the following together\n",
    "melted_data = data.melt(id_vars=['patient_nbr'], value_vars=['age', 'time_in_hospital'],\n",
    "                      var_name='Health_Metric', value_name='Value')\n",
    "print(melted_data)\n",
    "# This matches the patient number to other values (the age of the patient and the time spent inside of the hospital"
   ]
  },
  {
   "cell_type": "code",
   "execution_count": 64,
   "id": "3a3e3b8e-d4f7-449a-a7a2-8954404f8c7c",
   "metadata": {},
   "outputs": [
    {
     "name": "stdout",
     "output_type": "stream",
     "text": [
      "time_in_hospital    4.395987\n",
      "dtype: float64\n"
     ]
    }
   ],
   "source": [
    "# Aggregation\n",
    "average_hospital_time = data.agg({'time_in_hospital': 'mean'})\n",
    "print(average_hospital_time)\n",
    "\n",
    "# The average hospital time is what I believe the only useful piece of information to aggregaten without using a groupby function. It wouldn't make \n",
    "# sense to aggregate something like Patient ID number, as they're only useful in their original form. It would be nice to aggregate the age, but \n",
    "# it's not helpful that each age is just a range of ages stored as a string."
   ]
  },
  {
   "cell_type": "code",
   "execution_count": 96,
   "id": "4a44695f-f21f-489a-8c6a-37528ea6b028",
   "metadata": {},
   "outputs": [],
   "source": [
    "# Iterating over the rows of data to print cohesive statements\n",
    "\n",
    "# for index, row in data.iterrows():\n",
    "#     print(f'Patient number {row['patient_nbr']} is {row['race']} and takes {row['insulin']} insulin')\n",
    "\n",
    "# I'm leaving these commented out because they print a large amount of data.\n"
   ]
  },
  {
   "cell_type": "code",
   "execution_count": 97,
   "id": "82d37938-a0b9-4713-8c54-d4790e892825",
   "metadata": {},
   "outputs": [],
   "source": [
    "# We can do a lot to change which patients are printed\n",
    "\n",
    "# for index, row in data.iterrows():\n",
    "#     if (row['patient_nbr'] % 2 == 0):\n",
    "#         print(f'Patient number {row['patient_nbr']} is {row['race']} and takes {row['insulin']} insulin')\n",
    "\n",
    "# This only prints even patient numbers"
   ]
  },
  {
   "cell_type": "code",
   "execution_count": 98,
   "id": "1c00f4e1-ec3c-4b38-a22a-63a97256cc1c",
   "metadata": {},
   "outputs": [],
   "source": [
    "# We can also only get patients that take a certain type of insulin\n",
    "\n",
    "# for index, row in data.iterrows():\n",
    "#     if (row['insulin'] == \"No\"):\n",
    "#         print(f'Patient number {row['patient_nbr']} is {row['race']} and takes {row['insulin']} insulin')"
   ]
  },
  {
   "cell_type": "code",
   "execution_count": 99,
   "id": "d667a960-daf2-4d85-a9bc-afbb76fe537d",
   "metadata": {},
   "outputs": [],
   "source": [
    "# We can also ensure that we only get patients with no data missing\n",
    "\n",
    "# for index, row in data.iterrows():\n",
    "#     if ((row['insulin'] != \"?\") & (row['race'] != \"?\")):\n",
    "#         print(f'Patient number {row['patient_nbr']} is {row['race']} and takes {row['insulin']} insulin')"
   ]
  },
  {
   "cell_type": "code",
   "execution_count": null,
   "id": "5a01a7c1-e0f0-4f75-998a-ebf1ecadc0e2",
   "metadata": {},
   "outputs": [],
   "source": [
    "# With groupby, there are many many things we can do"
   ]
  },
  {
   "cell_type": "code",
   "execution_count": 88,
   "id": "5cbf7706-02f1-4149-b639-9c652b0b5af6",
   "metadata": {},
   "outputs": [
    {
     "name": "stdout",
     "output_type": "stream",
     "text": [
      "race\n",
      "?                   2273\n",
      "AfricanAmerican    19210\n",
      "Asian                641\n",
      "Caucasian          76099\n",
      "Hispanic            2037\n",
      "Other               1506\n",
      "dtype: int64\n"
     ]
    }
   ],
   "source": [
    "# One useful thing to do is see how many of each race we have\n",
    "print(data.groupby(['race']).size())"
   ]
  },
  {
   "cell_type": "code",
   "execution_count": 87,
   "id": "d8b16b4e-3d93-4a22-875d-e82183b9340b",
   "metadata": {},
   "outputs": [
    {
     "name": "stdout",
     "output_type": "stream",
     "text": [
      "race             gender         \n",
      "?                Female              1133\n",
      "                 Male                1138\n",
      "                 Unknown/Invalid        2\n",
      "AfricanAmerican  Female             11728\n",
      "                 Male                7482\n",
      "Asian            Female               318\n",
      "                 Male                 323\n",
      "Caucasian        Female             39689\n",
      "                 Male               36410\n",
      "Hispanic         Female              1092\n",
      "                 Male                 945\n",
      "Other            Female               748\n",
      "                 Male                 757\n",
      "                 Unknown/Invalid        1\n",
      "dtype: int64\n"
     ]
    }
   ],
   "source": [
    "# We can expand upon this by adding gender to the mix\n",
    "print(data.groupby(['race', 'gender']).size())"
   ]
  },
  {
   "cell_type": "code",
   "execution_count": 95,
   "id": "8707c137-fd05-4665-ab19-a6710ef093f9",
   "metadata": {},
   "outputs": [
    {
     "name": "stdout",
     "output_type": "stream",
     "text": [
      "age\n",
      "[0-10)      2.546584\n",
      "[10-20)     3.191027\n",
      "[20-30)     3.564876\n",
      "[30-40)     3.799735\n",
      "[40-50)     4.039649\n",
      "[50-60)     4.125753\n",
      "[60-70)     4.382244\n",
      "[70-80)     4.590878\n",
      "[80-90)     4.808629\n",
      "[90-100)    4.755818\n",
      "Name: time_in_hospital, dtype: float64\n"
     ]
    }
   ],
   "source": [
    "# We can do the same aggregation performed earlier with groupy like so, but with the age\n",
    "print(data.groupby('age')['time_in_hospital'].mean())"
   ]
  },
  {
   "cell_type": "code",
   "execution_count": 101,
   "id": "31075b66-75cd-4648-831b-688d6e6680b5",
   "metadata": {},
   "outputs": [
    {
     "name": "stdout",
     "output_type": "stream",
     "text": [
      "          time_in_hospital\n",
      "age                       \n",
      "[0-10)            2.546584\n",
      "[10-20)           3.191027\n",
      "[20-30)           3.564876\n",
      "[30-40)           3.799735\n",
      "[40-50)           4.039649\n",
      "[50-60)           4.125753\n",
      "[60-70)           4.382244\n",
      "[70-80)           4.590878\n",
      "[80-90)           4.808629\n",
      "[90-100)          4.755818\n"
     ]
    }
   ],
   "source": [
    "# The above function is the same as this\n",
    "print(data.groupby('age').agg({'time_in_hospital': 'mean'}))"
   ]
  },
  {
   "cell_type": "code",
   "execution_count": 92,
   "id": "71180e71-598e-4a71-b23c-2e8e3b581e68",
   "metadata": {},
   "outputs": [
    {
     "name": "stdout",
     "output_type": "stream",
     "text": [
      "                              age\n",
      "admission_type_id age            \n",
      "1                 [70-80)   13474\n",
      "                  [60-70)   11148\n",
      "                  [80-90)    9878\n",
      "                  [50-60)    8907\n",
      "                  [40-50)    5259\n",
      "...                           ...\n",
      "8                 [40-50)      26\n",
      "                  [30-40)      12\n",
      "                  [20-30)       4\n",
      "                  [90-100)      4\n",
      "                  [10-20)       1\n",
      "\n",
      "[71 rows x 1 columns]\n"
     ]
    }
   ],
   "source": [
    "# We can group the admission type to the age of the admitted individual, and then aggregate with the value_counts function that simply counts the number of occurences\n",
    "print(data.groupby('admission_type_id').agg({'age': 'value_counts'}))"
   ]
  },
  {
   "cell_type": "code",
   "execution_count": 114,
   "id": "3897a927-ea2a-428e-af13-fd54624d415b",
   "metadata": {},
   "outputs": [
    {
     "name": "stdout",
     "output_type": "stream",
     "text": [
      "gender     Female   Male  Unknown/Invalid\n",
      "race                                     \n",
      "?            1133   1138                2\n",
      "Caucasian   39689  36410                0\n"
     ]
    }
   ],
   "source": [
    "# I ran into many issues with pivot (it doesn't allow duplicates, and this data has a TON of duplicates), but it turns out that a pivot table\n",
    "# is really good with working with duplicates and is fairly straightforward.\n",
    "\n",
    "df_filtered = data[data['race'].isin(['?', 'Caucasian'])]  # Filter rows where race is '?' or 'caucasian'\n",
    "\n",
    "# Create a pivot table to count the occurrences of 'gender' by 'race'\n",
    "pivot_table = df_filtered.pivot_table(\n",
    "    index='race', \n",
    "    columns='gender', \n",
    "    aggfunc='size',  # 'size' will count occurrences\n",
    "    fill_value = 0 # fills in nan with 0\n",
    ")\n",
    "\n",
    "print(pivot_table)"
   ]
  },
  {
   "cell_type": "code",
   "execution_count": 117,
   "id": "28f914db-4175-4560-a852-018ffbe50adc",
   "metadata": {},
   "outputs": [
    {
     "name": "stdout",
     "output_type": "stream",
     "text": [
      "age              [0-10)  [10-20)  [20-30)  [30-40)  [40-50)  [50-60)  [60-70)  \\\n",
      "race                                                                            \n",
      "?                     1        9       46       76      220      361      495   \n",
      "AfricanAmerican      16      209      540     1223     2787     4225     4232   \n",
      "Asian                 2        2        6       15       52      123      160   \n",
      "Caucasian           136      438      975     2203     6131    11835    16693   \n",
      "Hispanic              2       23       63      174      337      403      489   \n",
      "Other                 4       10       27       84      158      309      414   \n",
      "\n",
      "age              [70-80)  [80-90)  [90-100)  \n",
      "race                                         \n",
      "?                    599      397        69  \n",
      "AfricanAmerican     3816     1817       345  \n",
      "Asian                180       90        11  \n",
      "Caucasian          20761    14602      2325  \n",
      "Hispanic             386      141        19  \n",
      "Other                326      150        24  \n"
     ]
    }
   ],
   "source": [
    "# If we want to use pivot, we can aggregate the data to remove duplicates, and then pivot the aggregated data.\n",
    "# I had to do a lot of searching to realize as_index needed to be false, and it's because we don't want the columns to become the indices.\n",
    "df_agg = data.groupby(['race', 'age'], as_index=False).agg({'admission_type_id': 'count'})\n",
    "\n",
    "df_pivot = df_agg.pivot(index='race', columns='age', values='admission_type_id')\n",
    "\n",
    "print(df_pivot)"
   ]
  },
  {
   "cell_type": "code",
   "execution_count": null,
   "id": "71d77b11-b828-4e02-9029-26eca239c846",
   "metadata": {},
   "outputs": [],
   "source": []
  }
 ],
 "metadata": {
  "kernelspec": {
   "display_name": "Python 3 (ipykernel)",
   "language": "python",
   "name": "python3"
  },
  "language_info": {
   "codemirror_mode": {
    "name": "ipython",
    "version": 3
   },
   "file_extension": ".py",
   "mimetype": "text/x-python",
   "name": "python",
   "nbconvert_exporter": "python",
   "pygments_lexer": "ipython3",
   "version": "3.13.0"
  }
 },
 "nbformat": 4,
 "nbformat_minor": 5
}
